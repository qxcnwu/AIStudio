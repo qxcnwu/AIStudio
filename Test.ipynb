{
 "cells": [
  {
   "cell_type": "code",
   "execution_count": 1,
   "metadata": {
    "collapsed": false
   },
   "outputs": [
    {
     "name": "stdout",
     "output_type": "stream",
     "text": [
      "data80164\r\n"
     ]
    }
   ],
   "source": [
    "# 查看当前挂载的数据集目录, 该目录下的变更重启环境后会自动还原\n",
    "# View dataset directory. \n",
    "# This directory will be recovered automatically after resetting environment. \n",
    "!ls /home/aistudio/data"
   ]
  },
  {
   "cell_type": "code",
   "execution_count": 2,
   "metadata": {
    "collapsed": false
   },
   "outputs": [
    {
     "name": "stdout",
     "output_type": "stream",
     "text": [
      "test.txt  train.txt\r\n"
     ]
    }
   ],
   "source": [
    "# 查看工作区文件, 该目录下的变更将会持久保存. 请及时清理不必要的文件, 避免加载过慢.\n",
    "# View personal work directory. \n",
    "# All changes under this directory will be kept even after reset. \n",
    "# Please clean unnecessary files in time to speed up environment loading. \n",
    "!ls /home/aistudio/work"
   ]
  },
  {
   "cell_type": "code",
   "execution_count": 3,
   "metadata": {
    "collapsed": false
   },
   "outputs": [
    {
     "name": "stdout",
     "output_type": "stream",
     "text": [
      "mkdir: cannot create directory ‘/home/aistudio/external-libraries’: File exists\n",
      "Looking in indexes: https://pypi.tuna.tsinghua.edu.cn/simple\n",
      "Collecting beautifulsoup4\n",
      "  Using cached https://pypi.tuna.tsinghua.edu.cn/packages/69/bf/f0f194d3379d3f3347478bd267f754fc68c11cbf2fe302a6ab69447b1417/beautifulsoup4-4.10.0-py3-none-any.whl\n",
      "Collecting soupsieve>1.2 (from beautifulsoup4)\n",
      "  Using cached https://pypi.tuna.tsinghua.edu.cn/packages/36/69/d82d04022f02733bf9a72bc3b96332d360c0c5307096d76f6bb7489f7e57/soupsieve-2.2.1-py3-none-any.whl\n",
      "Installing collected packages: soupsieve, beautifulsoup4\n",
      "Successfully installed beautifulsoup4-4.10.0 soupsieve-2.2.1\n",
      "\u001b[33mWARNING: Target directory /home/aistudio/external-libraries/bs4 already exists. Specify --upgrade to force replacement.\u001b[0m\n",
      "\u001b[33mWARNING: Target directory /home/aistudio/external-libraries/soupsieve-2.2.1.dist-info already exists. Specify --upgrade to force replacement.\u001b[0m\n",
      "\u001b[33mWARNING: Target directory /home/aistudio/external-libraries/beautifulsoup4-4.10.0.dist-info already exists. Specify --upgrade to force replacement.\u001b[0m\n",
      "\u001b[33mWARNING: Target directory /home/aistudio/external-libraries/soupsieve already exists. Specify --upgrade to force replacement.\u001b[0m\n",
      "Looking in indexes: https://pypi.tuna.tsinghua.edu.cn/simple\n",
      "Requirement already satisfied: paddleseg in /opt/conda/envs/python35-paddle120-env/lib/python3.7/site-packages (2.2.0)\n",
      "Requirement already satisfied: opencv-python in /opt/conda/envs/python35-paddle120-env/lib/python3.7/site-packages (from paddleseg) (4.1.1.26)\n",
      "Requirement already satisfied: visualdl>=2.0.0 in /opt/conda/envs/python35-paddle120-env/lib/python3.7/site-packages (from paddleseg) (2.2.0)\n",
      "Requirement already satisfied: flake8 in /opt/conda/envs/python35-paddle120-env/lib/python3.7/site-packages (from paddleseg) (3.8.2)\n",
      "Requirement already satisfied: yapf==0.26.0 in /opt/conda/envs/python35-paddle120-env/lib/python3.7/site-packages (from paddleseg) (0.26.0)\n",
      "Requirement already satisfied: pre-commit in /opt/conda/envs/python35-paddle120-env/lib/python3.7/site-packages (from paddleseg) (1.21.0)\n",
      "Requirement already satisfied: tqdm in /opt/conda/envs/python35-paddle120-env/lib/python3.7/site-packages (from paddleseg) (4.36.1)\n",
      "Requirement already satisfied: prettytable in /opt/conda/envs/python35-paddle120-env/lib/python3.7/site-packages (from paddleseg) (0.7.2)\n",
      "Requirement already satisfied: pyyaml>=5.1 in /opt/conda/envs/python35-paddle120-env/lib/python3.7/site-packages (from paddleseg) (5.1.2)\n",
      "Requirement already satisfied: scipy in /opt/conda/envs/python35-paddle120-env/lib/python3.7/site-packages (from paddleseg) (1.6.3)\n",
      "Requirement already satisfied: filelock in /opt/conda/envs/python35-paddle120-env/lib/python3.7/site-packages (from paddleseg) (3.0.12)\n",
      "Requirement already satisfied: numpy>=1.14.5 in /opt/conda/envs/python35-paddle120-env/lib/python3.7/site-packages (from opencv-python->paddleseg) (1.20.3)\n",
      "Requirement already satisfied: pandas in /opt/conda/envs/python35-paddle120-env/lib/python3.7/site-packages (from visualdl>=2.0.0->paddleseg) (1.1.5)\n",
      "Requirement already satisfied: six>=1.14.0 in /opt/conda/envs/python35-paddle120-env/lib/python3.7/site-packages (from visualdl>=2.0.0->paddleseg) (1.15.0)\n",
      "Requirement already satisfied: protobuf>=3.11.0 in /opt/conda/envs/python35-paddle120-env/lib/python3.7/site-packages (from visualdl>=2.0.0->paddleseg) (3.14.0)\n",
      "Requirement already satisfied: Flask-Babel>=1.0.0 in /opt/conda/envs/python35-paddle120-env/lib/python3.7/site-packages (from visualdl>=2.0.0->paddleseg) (1.0.0)\n",
      "Requirement already satisfied: Pillow>=7.0.0 in /opt/conda/envs/python35-paddle120-env/lib/python3.7/site-packages (from visualdl>=2.0.0->paddleseg) (7.1.2)\n",
      "Requirement already satisfied: matplotlib in /opt/conda/envs/python35-paddle120-env/lib/python3.7/site-packages (from visualdl>=2.0.0->paddleseg) (2.2.3)\n",
      "Requirement already satisfied: bce-python-sdk in /opt/conda/envs/python35-paddle120-env/lib/python3.7/site-packages (from visualdl>=2.0.0->paddleseg) (0.8.53)\n",
      "Requirement already satisfied: flask>=1.1.1 in /opt/conda/envs/python35-paddle120-env/lib/python3.7/site-packages (from visualdl>=2.0.0->paddleseg) (1.1.1)\n",
      "Requirement already satisfied: shellcheck-py in /opt/conda/envs/python35-paddle120-env/lib/python3.7/site-packages (from visualdl>=2.0.0->paddleseg) (0.7.1.1)\n",
      "Requirement already satisfied: requests in /opt/conda/envs/python35-paddle120-env/lib/python3.7/site-packages (from visualdl>=2.0.0->paddleseg) (2.22.0)\n",
      "Requirement already satisfied: importlib-metadata; python_version < \"3.8\" in /opt/conda/envs/python35-paddle120-env/lib/python3.7/site-packages (from flake8->paddleseg) (0.23)\n",
      "Requirement already satisfied: pyflakes<2.3.0,>=2.2.0 in /opt/conda/envs/python35-paddle120-env/lib/python3.7/site-packages (from flake8->paddleseg) (2.2.0)\n",
      "Requirement already satisfied: mccabe<0.7.0,>=0.6.0 in /opt/conda/envs/python35-paddle120-env/lib/python3.7/site-packages (from flake8->paddleseg) (0.6.1)\n",
      "Requirement already satisfied: pycodestyle<2.7.0,>=2.6.0a1 in /opt/conda/envs/python35-paddle120-env/lib/python3.7/site-packages (from flake8->paddleseg) (2.6.0)\n",
      "Requirement already satisfied: aspy.yaml in /opt/conda/envs/python35-paddle120-env/lib/python3.7/site-packages (from pre-commit->paddleseg) (1.3.0)\n",
      "Requirement already satisfied: cfgv>=2.0.0 in /opt/conda/envs/python35-paddle120-env/lib/python3.7/site-packages (from pre-commit->paddleseg) (2.0.1)\n",
      "Requirement already satisfied: toml in /opt/conda/envs/python35-paddle120-env/lib/python3.7/site-packages (from pre-commit->paddleseg) (0.10.0)\n",
      "Requirement already satisfied: virtualenv>=15.2 in /opt/conda/envs/python35-paddle120-env/lib/python3.7/site-packages (from pre-commit->paddleseg) (16.7.9)\n",
      "Requirement already satisfied: nodeenv>=0.11.1 in /opt/conda/envs/python35-paddle120-env/lib/python3.7/site-packages (from pre-commit->paddleseg) (1.3.4)\n",
      "Requirement already satisfied: identify>=1.0.0 in /opt/conda/envs/python35-paddle120-env/lib/python3.7/site-packages (from pre-commit->paddleseg) (1.4.10)\n",
      "Requirement already satisfied: python-dateutil>=2.7.3 in /opt/conda/envs/python35-paddle120-env/lib/python3.7/site-packages (from pandas->visualdl>=2.0.0->paddleseg) (2.8.0)\n",
      "Requirement already satisfied: pytz>=2017.2 in /opt/conda/envs/python35-paddle120-env/lib/python3.7/site-packages (from pandas->visualdl>=2.0.0->paddleseg) (2019.3)\n",
      "Requirement already satisfied: Jinja2>=2.5 in /opt/conda/envs/python35-paddle120-env/lib/python3.7/site-packages (from Flask-Babel>=1.0.0->visualdl>=2.0.0->paddleseg) (2.10.1)\n",
      "Requirement already satisfied: Babel>=2.3 in /opt/conda/envs/python35-paddle120-env/lib/python3.7/site-packages (from Flask-Babel>=1.0.0->visualdl>=2.0.0->paddleseg) (2.8.0)\n",
      "Requirement already satisfied: cycler>=0.10 in /opt/conda/envs/python35-paddle120-env/lib/python3.7/site-packages (from matplotlib->visualdl>=2.0.0->paddleseg) (0.10.0)\n",
      "Requirement already satisfied: pyparsing!=2.0.4,!=2.1.2,!=2.1.6,>=2.0.1 in /opt/conda/envs/python35-paddle120-env/lib/python3.7/site-packages (from matplotlib->visualdl>=2.0.0->paddleseg) (2.4.2)\n",
      "Requirement already satisfied: kiwisolver>=1.0.1 in /opt/conda/envs/python35-paddle120-env/lib/python3.7/site-packages (from matplotlib->visualdl>=2.0.0->paddleseg) (1.1.0)\n",
      "Requirement already satisfied: future>=0.6.0 in /opt/conda/envs/python35-paddle120-env/lib/python3.7/site-packages (from bce-python-sdk->visualdl>=2.0.0->paddleseg) (0.18.0)\n",
      "Requirement already satisfied: pycryptodome>=3.8.0 in /opt/conda/envs/python35-paddle120-env/lib/python3.7/site-packages (from bce-python-sdk->visualdl>=2.0.0->paddleseg) (3.9.9)\n",
      "Requirement already satisfied: itsdangerous>=0.24 in /opt/conda/envs/python35-paddle120-env/lib/python3.7/site-packages (from flask>=1.1.1->visualdl>=2.0.0->paddleseg) (1.1.0)\n",
      "Requirement already satisfied: Werkzeug>=0.15 in /opt/conda/envs/python35-paddle120-env/lib/python3.7/site-packages (from flask>=1.1.1->visualdl>=2.0.0->paddleseg) (0.16.0)\n",
      "Requirement already satisfied: click>=5.1 in /opt/conda/envs/python35-paddle120-env/lib/python3.7/site-packages (from flask>=1.1.1->visualdl>=2.0.0->paddleseg) (7.0)\n",
      "Requirement already satisfied: idna<2.9,>=2.5 in /opt/conda/envs/python35-paddle120-env/lib/python3.7/site-packages (from requests->visualdl>=2.0.0->paddleseg) (2.8)\n",
      "Requirement already satisfied: urllib3!=1.25.0,!=1.25.1,<1.26,>=1.21.1 in /opt/conda/envs/python35-paddle120-env/lib/python3.7/site-packages (from requests->visualdl>=2.0.0->paddleseg) (1.25.6)\n",
      "Requirement already satisfied: chardet<3.1.0,>=3.0.2 in /opt/conda/envs/python35-paddle120-env/lib/python3.7/site-packages (from requests->visualdl>=2.0.0->paddleseg) (3.0.4)\n",
      "Requirement already satisfied: certifi>=2017.4.17 in /opt/conda/envs/python35-paddle120-env/lib/python3.7/site-packages (from requests->visualdl>=2.0.0->paddleseg) (2019.9.11)\n",
      "Requirement already satisfied: zipp>=0.5 in /opt/conda/envs/python35-paddle120-env/lib/python3.7/site-packages (from importlib-metadata; python_version < \"3.8\"->flake8->paddleseg) (0.6.0)\n",
      "Requirement already satisfied: MarkupSafe>=0.23 in /opt/conda/envs/python35-paddle120-env/lib/python3.7/site-packages (from Jinja2>=2.5->Flask-Babel>=1.0.0->visualdl>=2.0.0->paddleseg) (1.1.1)\n",
      "Requirement already satisfied: setuptools in /opt/conda/envs/python35-paddle120-env/lib/python3.7/site-packages (from kiwisolver>=1.0.1->matplotlib->visualdl>=2.0.0->paddleseg) (56.2.0)\n",
      "Requirement already satisfied: more-itertools in /opt/conda/envs/python35-paddle120-env/lib/python3.7/site-packages (from zipp>=0.5->importlib-metadata; python_version < \"3.8\"->flake8->paddleseg) (7.2.0)\n"
     ]
    }
   ],
   "source": [
    "# 如果需要进行持久化安装, 需要使用持久化路径, 如下方代码示例:\n",
    "# If a persistence installation is required, \n",
    "# you need to use the persistence path as the following: \n",
    "!mkdir /home/aistudio/external-libraries\n",
    "!pip install beautifulsoup4 -t /home/aistudio/external-libraries\n",
    "!pip install paddleseg"
   ]
  },
  {
   "cell_type": "code",
   "execution_count": 4,
   "metadata": {
    "collapsed": false
   },
   "outputs": [],
   "source": [
    "# 同时添加如下代码, 这样每次环境(kernel)启动的时候只要运行下方代码即可: \n",
    "# Also add the following code, \n",
    "# so that every time the environment (kernel) starts, \n",
    "# just run the following code: \n",
    "import sys \n",
    "sys.path.append('/home/aistudio/external-libraries')"
   ]
  },
  {
   "cell_type": "code",
   "execution_count": null,
   "metadata": {
    "collapsed": false
   },
   "outputs": [
    {
     "name": "stdout",
     "output_type": "stream",
     "text": [
      "2021-09-24 19:30:17 [INFO]\tLoading pretrained model from https://bj.bcebos.com/paddleseg/dygraph/hrnet_w48_ssld.tar.gz\n",
      "2021-09-24 19:30:21 [INFO]\tThere are 1525/1525 variables loaded into HRNet.\n",
      "Epoch 0: StepDecay set learning rate to 0.01.\n"
     ]
    },
    {
     "name": "stderr",
     "output_type": "stream",
     "text": [
      "/opt/conda/envs/python35-paddle120-env/lib/python3.7/site-packages/paddle/nn/layer/norm.py:641: UserWarning: When training, we now always track global mean and variance.\n",
      "  \"When training, we now always track global mean and variance.\")\n",
      "/opt/conda/envs/python35-paddle120-env/lib/python3.7/site-packages/paddle/fluid/framework.py:706: DeprecationWarning: `np.bool` is a deprecated alias for the builtin `bool`. To silence this warning, use `bool` by itself. Doing this will not modify any behavior and is safe. If you specifically wanted the numpy scalar type, use `np.bool_` here.\n",
      "Deprecated in NumPy 1.20; for more details and guidance: https://numpy.org/devdocs/release/1.20.0-notes.html#deprecations\n",
      "  elif dtype == np.bool:\n",
      "/opt/conda/envs/python35-paddle120-env/lib/python3.7/site-packages/ipykernel_launcher.py:69: DeprecationWarning: \u001b[93m\n",
      "Warning:\n",
      "API \"paddle.nn.functional.loss.softmax_with_cross_entropy\" is deprecated since 2.0.0, and will be removed in future versions. Please use \"paddle.nn.functional.cross_entropy\" instead.\n",
      "reason: Please notice that behavior of \"paddle.nn.functional.softmax_with_cross_entropy\" and \"paddle.nn.functional.cross_entropy\" is different. \u001b[0m\n"
     ]
    },
    {
     "name": "stdout",
     "output_type": "stream",
     "text": [
      "AFTER  1  epochs 1  batch iou: [4.1780643]\n"
     ]
    }
   ],
   "source": [
    "import paddle\n",
    "from paddle.io import Dataset\n",
    "from paddle.vision.transforms import Compose, Transpose, ColorJitter, vflip, Grayscale, hflip, Normalize\n",
    "from PIL import Image\n",
    "import numpy as np\n",
    "import random\n",
    "import os\n",
    "\n",
    "\n",
    "# 读取数据集\n",
    "class Dataloader(Dataset):\n",
    "    def __init__(self, model=''):\n",
    "        super(Dataloader).__init__()\n",
    "        self.image_floader = ''\n",
    "        if model == 'train':\n",
    "            self.file = 'work/train.txt'\n",
    "        else:\n",
    "            self.file = 'work/test.txt'\n",
    "        self.jpg_list, self.label_list= self.read_list()\n",
    "\n",
    "    def read_list(self):\n",
    "        data_list = []\n",
    "        jpg_list = []\n",
    "        label_list = []\n",
    "        with open(self.file) as lines:\n",
    "            for line in lines:\n",
    "                jpg_path = os.path.join(\"img_train\", line.split(',')[0])\n",
    "                label_path = os.path.join(\"lab_train\", line.split(',')[1].replace('\\n', ''))\n",
    "                data_list.append((jpg_path, label_path))\n",
    "        random.shuffle(data_list)\n",
    "        for k in data_list:\n",
    "            jpg_list.append(k[0])\n",
    "            label_list.append(k[1])\n",
    "        return jpg_list, label_list\n",
    "\n",
    "    def _load_img(self, jpg_path, label_path):\n",
    "        jpg = np.array(Image.open(jpg_path))\n",
    "        jpg = 1 / (1 + np.exp(-((jpg - 127.5) / 127.5)))\n",
    "        label = Image.open(label_path)\n",
    "        return Compose([Transpose()])(jpg), Compose([Grayscale(), Transpose()])(label)\n",
    "\n",
    "    def __getitem__(self, idx):\n",
    "        train_image, label_image= self._load_img(self.jpg_list[idx], self.label_list[idx])\n",
    "        train_image = np.array(train_image, dtype='float32')\n",
    "        label_image = np.array(label_image, dtype='int64')\n",
    "        label_image[label_image>4]=4\n",
    "        zero_image=np.zeros(shape=label_image.shape)\n",
    "        zero_image[label_image!=4]=1\n",
    "        data=2-np.sum(zero_image)/256/256\n",
    "        label_image=np.concatenate([label_image,data*zero_image])\n",
    "        return train_image, label_image\n",
    "\n",
    "    def __len__(self):\n",
    "        return len(self.label_list)\n",
    "\n",
    "# 计算损失函数\n",
    "class LOSS_CROSS_IOU(paddle.nn.Layer):\n",
    "    def __init__(self, weights, num_class):\n",
    "        super(LOSS_CROSS_IOU, self).__init__()\n",
    "        self.weights_list = weights\n",
    "        self.num_class = num_class\n",
    "\n",
    "    def forward(self, input, label):\n",
    "        if(len(input)>1):\n",
    "            input_1 = paddle.transpose(input[1], [0, 2, 3, 1])\n",
    "            input = paddle.transpose(input[0], [0, 2, 3, 1])\n",
    "            label_1 = paddle.cast(paddle.transpose(paddle.unsqueeze(label[:,0,:,:],axis=1), [0, 2, 3, 1]),dtype=\"int64\")\n",
    "            iou_loss = paddle.abs(paddle.mean(paddle.nn.functional.dice_loss(input,label_1)))\n",
    "            cross_loss = paddle.mean(paddle.nn.functional.softmax_with_cross_entropy(logits=input, label=label_1))+paddle.mean(paddle.nn.functional.softmax_with_cross_entropy(logits=input_1, label=label_1))\n",
    "        else:\n",
    "            input = paddle.transpose(input[0], [0, 2, 3, 1])\n",
    "            label_1 = paddle.cast(paddle.transpose(paddle.unsqueeze(label[:,0,:,:],axis=1), [0, 2, 3, 1]),dtype=\"int64\")\n",
    "            iou_loss = paddle.abs(paddle.mean(paddle.nn.functional.dice_loss(input,label_1)))\n",
    "            cross_loss = paddle.mean(paddle.nn.functional.softmax_with_cross_entropy(logits=input, label=label_1))\n",
    "        return paddle.add(iou_loss, cross_loss)\n",
    "\n",
    "def train():\n",
    "    from paddleseg.models.backbones.hrnet import HRNet_W48\n",
    "    from paddleseg.models.ocrnet import OCRNet\n",
    "    from paddleseg.models.backbones import ResNet101_vd\n",
    "    from paddleseg.models.deeplab import DeepLabV3P\n",
    "    NET=OCRNet(5,HRNet_W48(pretrained='https://bj.bcebos.com/paddleseg/dygraph/hrnet_w48_ssld.tar.gz'),(0,))\n",
    "    # BackBone=ResNet101_vd()\n",
    "    # NET = DeepLabV3P(5,backbone=BackBone,pretrained=\"https://bj.bcebos.com/paddleseg/dygraph/resnet101_vd_ssld.tar.gz\")\n",
    "\n",
    "    epoch=20\n",
    "    batch_size = 48\n",
    "    step = 0\n",
    "    step2 = 0\n",
    "    PrintNum = 20\n",
    "    modelDir = \"Model/\"\n",
    "    # layer_state_dict = paddle.load(\"Model/3/model.pdparams\")\n",
    "    # NET.set_state_dict(layer_state_dict)\n",
    "    ans_list=[]\n",
    "    NET.train()\n",
    "\n",
    "    # 训练测试数据集\n",
    "    train_dataset = Dataloader(model='train')\n",
    "    val_dataset = Dataloader(model='test')\n",
    "    train_loader = paddle.io.DataLoader(train_dataset, batch_size=batch_size, drop_last=True, shuffle=True)\n",
    "    val_loader = paddle.io.DataLoader(val_dataset, batch_size=batch_size, drop_last=True, shuffle=True)\n",
    "\n",
    "    # 设置学习率，设置优化器\n",
    "    scheduler = paddle.optimizer.lr.StepDecay(learning_rate=0.01, step_size=2, gamma=0.8, verbose=True)\n",
    "    sgd = paddle.optimizer.SGD(learning_rate=scheduler, parameters=NET.parameters())\n",
    "    loss_fn = LOSS_CROSS_IOU(0, 5)\n",
    "    for i in range(epoch):\n",
    "        losses = []\n",
    "        # 按Batch循环\n",
    "        for batch_id, data in enumerate(train_loader()):\n",
    "            step += 1\n",
    "            x_data = data[0]  # 训练数据\n",
    "            y_data = data[1]\n",
    "            predicts = NET(x_data)\n",
    "            loss = loss_fn(predicts, y_data)\n",
    "            losses.append(loss.numpy())\n",
    "            if batch_id % PrintNum == 0:\n",
    "                print('AFTER ', i + 1, ' epochs', batch_id + 1, ' batch iou:', sum(losses) / len(losses))\n",
    "            loss.backward()\n",
    "            sgd.step()\n",
    "            # 梯度清零\n",
    "            sgd.clear_grad()\n",
    "        scheduler.step()\n",
    "        print('epoch iou:', sum(losses) / len(losses))\n",
    "        NET.eval()\n",
    "        with paddle.no_grad():\n",
    "            aiou = []\n",
    "            for batch_id, data in enumerate(val_loader()):\n",
    "                step2 += 1\n",
    "                x_data = data[0]  # 训练数据\n",
    "                y_data = data[1]\n",
    "                predicts = NET(x_data)\n",
    "                loss = loss_fn(predicts, y_data)\n",
    "                aiou.append(loss.numpy())\n",
    "                if batch_id % PrintNum == 0:\n",
    "                    print('test biou ', sum(aiou) / len(aiou))\n",
    "            print('test biou all', sum(aiou) / len(aiou))\n",
    "            ans_list.append(sum(aiou) / len(aiou))\n",
    "        NET.train()\n",
    "        if ans_list[-1] == min(ans_list):\n",
    "            model_path = modelDir + str(i)\n",
    "            paddle.save(NET.state_dict(), os.path.join(model_path, 'model.pdparams'))\n",
    "            paddle.save(sgd.state_dict(), os.path.join(model_path, 'model.pdopt'))\n",
    "        else:\n",
    "            print(ans_list[-1], min(ans_list), 'no save')\n",
    "    return 0\n",
    "\n",
    "if __name__ == '__main__':\n",
    "    train()"
   ]
  },
  {
   "cell_type": "markdown",
   "metadata": {
    "collapsed": false
   },
   "source": [
    "请点击[此处](https://ai.baidu.com/docs#/AIStudio_Project_Notebook/a38e5576)查看本环境基本用法.  <br>\n",
    "Please click [here ](https://ai.baidu.com/docs#/AIStudio_Project_Notebook/a38e5576) for more detailed instructions. "
   ]
  },
  {
   "cell_type": "code",
   "execution_count": null,
   "metadata": {
    "collapsed": false
   },
   "outputs": [
    {
     "name": "stderr",
     "output_type": "stream",
     "text": [
      "100%|██████████| 4608/4608 [00:12<00:00, 372.84it/s]\n"
     ]
    }
   ],
   "source": [
    "import paddle\r\n",
    "from paddle.io import Dataset\r\n",
    "from paddle.vision.transforms import Compose, Transpose, ColorJitter, vflip, Grayscale, hflip, Normalize\r\n",
    "from PIL import Image\r\n",
    "import numpy as np\r\n",
    "from tqdm import tqdm\r\n",
    "import os\r\n",
    "from paddleseg.models.backbones.hrnet import HRNet_W48\r\n",
    "from paddleseg.models.ocrnet import OCRNet\r\n",
    "\r\n",
    "def predict(model_path=\"Model/5/model.pdparams\",pic_dir=\"img_testA\",save_dir=\"ans\"):\r\n",
    "    files=os.listdir(pic_dir)\r\n",
    "    model = OCRNet(5, HRNet_W48(pretrained=None), (0,))\r\n",
    "    layer_state_dict = paddle.load(model_path)\r\n",
    "    model.set_state_dict(layer_state_dict)\r\n",
    "    model.eval()\r\n",
    "    for i in tqdm(files):\r\n",
    "        path=os.path.join(pic_dir,i)\r\n",
    "        data=np.array(Image.open(path))\r\n",
    "        data = 1 / (1 + np.exp(-((data - 127.5) / 127.5)))\r\n",
    "        data=np.reshape(data,[1,256,256,3])\r\n",
    "        pic_data = paddle.transpose(paddle.cast(paddle.to_tensor(data), dtype='float32'), [0, 3, 1, 2])\r\n",
    "        predicts = model(pic_data)\r\n",
    "        pic = paddle.transpose(predicts[0], [0, 2, 3, 1])\r\n",
    "        ans = paddle.argmax(pic, axis=-1)\r\n",
    "        ans=ans.numpy()\r\n",
    "        ans=np.reshape(ans,[256,256])\r\n",
    "        im=Image.fromarray(ans.astype(\"uint8\"))\r\n",
    "        im.save(os.path.join(save_dir,i.replace(\"jpg\",\"png\")))\r\n",
    "    return \r\n",
    "\r\n",
    "def change(pic_dir=\"img_testA\"):\r\n",
    "    files=os.listdir(pic_dir)\r\n",
    "    for i in tqdm(files):\r\n",
    "        path=os.path.join(pic_dir,i)\r\n",
    "        data=np.array(Image.open(path))\r\n",
    "        data[data>3]=1\r\n",
    "        im=Image.fromarray(data.astype(\"uint8\"))\r\n",
    "        im.save(path)\r\n",
    "\r\n",
    "\r\n",
    "if __name__ == '__main__':\r\n",
    "    # change()\r\n",
    "    # predict()"
   ]
  }
 ],
 "metadata": {
  "kernelspec": {
   "display_name": "Python 3",
   "language": "python",
   "name": "py35-paddle1.2.0"
  },
  "language_info": {
   "codemirror_mode": {
    "name": "ipython",
    "version": 3
   },
   "file_extension": ".py",
   "mimetype": "text/x-python",
   "name": "python",
   "nbconvert_exporter": "python",
   "pygments_lexer": "ipython3",
   "version": "3.7.4"
  }
 },
 "nbformat": 4,
 "nbformat_minor": 1
}
